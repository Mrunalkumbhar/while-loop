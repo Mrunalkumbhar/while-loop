{
 "cells": [
  {
   "cell_type": "code",
   "execution_count": 1,
   "metadata": {},
   "outputs": [
    {
     "name": "stdout",
     "output_type": "stream",
     "text": [
      "hi, how r u doing????\n",
      "hi, how r u doing????\n",
      "hi, how r u doing????\n",
      "hi, how r u doing????\n",
      "hi, how r u doing????\n"
     ]
    }
   ],
   "source": [
    "print(\"hi, how r u doing????\")\n",
    "print(\"hi, how r u doing????\")\n",
    "print(\"hi, how r u doing????\")\n",
    "print(\"hi, how r u doing????\")\n",
    "print(\"hi, how r u doing????\")"
   ]
  },
  {
   "cell_type": "code",
   "execution_count": 2,
   "metadata": {},
   "outputs": [
    {
     "data": {
      "text/plain": [
       "True"
      ]
     },
     "execution_count": 2,
     "metadata": {},
     "output_type": "execute_result"
    }
   ],
   "source": [
    "i=1\n",
    "i==1"
   ]
  },
  {
   "cell_type": "code",
   "execution_count": 3,
   "metadata": {},
   "outputs": [
    {
     "name": "stdout",
     "output_type": "stream",
     "text": [
      "hi, how r u doing????\n",
      "hi, how r u doing????\n",
      "hi, how r u doing????\n",
      "hi, how r u doing????\n",
      "hi, how r u doing????\n",
      "hi, how r u doing????\n",
      "hi, how r u doing????\n",
      "hi, how r u doing????\n",
      "hi, how r u doing????\n",
      "hi, how r u doing????\n",
      "loop ends\n"
     ]
    }
   ],
   "source": [
    "i=1\n",
    "while i<=10:\n",
    "    print(\"hi, how r u doing????\")\n",
    "    i=i+1\n",
    "print(\"loop ends\")  "
   ]
  },
  {
   "cell_type": "code",
   "execution_count": 4,
   "metadata": {},
   "outputs": [
    {
     "name": "stdout",
     "output_type": "stream",
     "text": [
      "hi, how r u doing????\n",
      "hi, how r u doing????\n",
      "hi, how r u doing????\n",
      "hi, how r u doing????\n",
      "hi, how r u doing????\n",
      "hi, how r u doing????\n",
      "hi, how r u doing????\n",
      "hi, how r u doing????\n",
      "hi, how r u doing????\n",
      "hi, how r u doing????\n",
      "hi, how r u doing????\n",
      "loop ends\n"
     ]
    }
   ],
   "source": [
    "i=10\n",
    "while i<=20:\n",
    "    print(\"hi, how r u doing????\")\n",
    "    i=i+1\n",
    "print(\"loop ends\")  "
   ]
  },
  {
   "cell_type": "code",
   "execution_count": null,
   "metadata": {},
   "outputs": [],
   "source": [
    "i=10\n",
    "while i>=0:\n",
    "    print(\"hi, how r u doing????\")\n",
    "    i=i-1\n",
    "print(\"loop ends\")  "
   ]
  },
  {
   "cell_type": "code",
   "execution_count": 1,
   "metadata": {},
   "outputs": [
    {
     "name": "stdout",
     "output_type": "stream",
     "text": [
      "hi, how r u doing????\n",
      "hi, how r u doing????\n",
      "hi, how r u doing????\n",
      "hi, how r u doing????\n",
      "hi, how r u doing????\n",
      "hi, how r u doing????\n",
      "hi, how r u doing????\n",
      "hi, how r u doing????\n",
      "hi, how r u doing????\n",
      "hi, how r u doing????\n",
      "loop ends\n"
     ]
    }
   ],
   "source": [
    "i=100\n",
    "while i>90:\n",
    "    print(\"hi, how r u doing????\")\n",
    "    i=i-1\n",
    "print(\"loop ends\") "
   ]
  },
  {
   "cell_type": "code",
   "execution_count": null,
   "metadata": {},
   "outputs": [],
   "source": [
    "#pint no from 1 to 10\n",
    "print(1)\n",
    "print(2)\n",
    "print(3)\n",
    "print(4)\n",
    "print(5)\n",
    "...\n",
    "print(10)\n",
    "\n"
   ]
  },
  {
   "cell_type": "code",
   "execution_count": 2,
   "metadata": {},
   "outputs": [
    {
     "name": "stdout",
     "output_type": "stream",
     "text": [
      "1\n",
      "2\n",
      "3\n",
      "4\n",
      "5\n",
      "6\n",
      "7\n",
      "8\n",
      "9\n",
      "10\n",
      "loop ends\n"
     ]
    }
   ],
   "source": [
    "i=1\n",
    "while i<=10:\n",
    "    print(i)\n",
    "    i=i+1\n",
    "print(\"loop ends\")  "
   ]
  },
  {
   "cell_type": "code",
   "execution_count": 3,
   "metadata": {},
   "outputs": [
    {
     "name": "stdout",
     "output_type": "stream",
     "text": [
      "10\n",
      "11\n",
      "12\n",
      "13\n",
      "14\n",
      "15\n",
      "16\n",
      "17\n",
      "18\n",
      "19\n",
      "20\n",
      "loop ends\n"
     ]
    }
   ],
   "source": [
    "i=10                   #i=10\n",
    "while i<=20:           #11<=20\n",
    "    print(i)    #11\n",
    "    i=i+1              #i=12\n",
    "print(\"loop ends\")  "
   ]
  },
  {
   "cell_type": "code",
   "execution_count": 4,
   "metadata": {},
   "outputs": [
    {
     "name": "stdout",
     "output_type": "stream",
     "text": [
      "10\n",
      "20\n",
      "30\n",
      "40\n",
      "50\n",
      "60\n",
      "70\n",
      "80\n",
      "90\n",
      "100\n",
      "loop ends\n"
     ]
    }
   ],
   "source": [
    "#10 20 30 ... 100\n",
    "i=1\n",
    "while i<=10:\n",
    "    print(i*10)\n",
    "    i=i+1\n",
    "print(\"loop ends\")  "
   ]
  },
  {
   "cell_type": "code",
   "execution_count": 7,
   "metadata": {},
   "outputs": [
    {
     "name": "stdout",
     "output_type": "stream",
     "text": [
      "square of 1 is 1\n",
      "square of 2 is 4\n",
      "square of 3 is 9\n",
      "square of 4 is 16\n",
      "square of 5 is 25\n",
      "square of 6 is 36\n",
      "square of 7 is 49\n",
      "square of 8 is 64\n",
      "square of 9 is 81\n",
      "square of 10 is 100\n",
      "loop ends\n"
     ]
    }
   ],
   "source": [
    "i=1\n",
    "while i<=10:\n",
    "    sq=i**2\n",
    "    print(f\"square of {i} is {sq}\")\n",
    "    i=i+1\n",
    "print(\"loop ends\")  "
   ]
  },
  {
   "cell_type": "code",
   "execution_count": 8,
   "metadata": {},
   "outputs": [],
   "source": [
    "#print cubes of 1st ten numbers\n",
    "#1st ten even number\n",
    "#1st ten odd number"
   ]
  },
  {
   "cell_type": "code",
   "execution_count": 9,
   "metadata": {},
   "outputs": [
    {
     "name": "stdout",
     "output_type": "stream",
     "text": [
      "square of 10 is 100\n",
      "square of 11 is 121\n",
      "square of 12 is 144\n",
      "square of 13 is 169\n",
      "square of 14 is 196\n",
      "square of 15 is 225\n",
      "square of 16 is 256\n",
      "square of 17 is 289\n",
      "square of 18 is 324\n",
      "square of 19 is 361\n",
      "square of 20 is 400\n",
      "loop ends\n"
     ]
    }
   ],
   "source": [
    "i=10\n",
    "while i<=20:\n",
    "    sq=i**2\n",
    "    print(f\"square of {i} is {sq}\")\n",
    "    i=i+1\n",
    "print(\"loop ends\")  "
   ]
  },
  {
   "cell_type": "code",
   "execution_count": 10,
   "metadata": {},
   "outputs": [
    {
     "name": "stdout",
     "output_type": "stream",
     "text": [
      "hi\n",
      "hi\n",
      "hi\n",
      "hi\n",
      "hi\n",
      "hi\n",
      "hi\n",
      "hi\n",
      "hi\n",
      "hi\n",
      "end of loop\n"
     ]
    }
   ],
   "source": [
    "i=10\n",
    "while i>=1:\n",
    "    print(\"hi\")\n",
    "    i=i-1\n",
    "print(\"end of loop\")"
   ]
  },
  {
   "cell_type": "code",
   "execution_count": 7,
   "metadata": {},
   "outputs": [
    {
     "name": "stdout",
     "output_type": "stream",
     "text": [
      "1\n",
      "1\n",
      "1\n",
      "2\n",
      "2\n",
      "2\n",
      "3\n",
      "3\n",
      "3\n",
      "4\n",
      "4\n",
      "4\n",
      "5\n",
      "5\n",
      "5\n"
     ]
    }
   ],
   "source": [
    "#nested loops\n",
    "i=1\n",
    "while i<6:\n",
    "    j=1\n",
    "    while j<4:\n",
    "        print(i)\n",
    "        j+=1\n",
    "    i+=1\n",
    "        "
   ]
  },
  {
   "cell_type": "code",
   "execution_count": 13,
   "metadata": {},
   "outputs": [],
   "source": [
    "#to itertTE OVER SEQUENTIAL DATA - STRING, LIST , TUPLE\n",
    "lst=[2,1,5,8,5,6,18,13,11,15]"
   ]
  },
  {
   "cell_type": "code",
   "execution_count": 14,
   "metadata": {},
   "outputs": [
    {
     "name": "stdout",
     "output_type": "stream",
     "text": [
      "2\n",
      "1\n",
      "5\n",
      "15\n"
     ]
    }
   ],
   "source": [
    "print(lst[0])\n",
    "print(lst[1])\n",
    "print(lst[2])\n",
    "\n",
    "\n",
    "print(lst[9])"
   ]
  },
  {
   "cell_type": "code",
   "execution_count": 15,
   "metadata": {
    "collapsed": true
   },
   "outputs": [
    {
     "ename": "NameError",
     "evalue": "name 'i___' is not defined",
     "output_type": "error",
     "traceback": [
      "\u001b[0;31m---------------------------------------------------------------------------\u001b[0m",
      "\u001b[0;31mNameError\u001b[0m                                 Traceback (most recent call last)",
      "\u001b[0;32m/tmp/ipykernel_5958/204901716.py\u001b[0m in \u001b[0;36m<module>\u001b[0;34m\u001b[0m\n\u001b[0;32m----> 1\u001b[0;31m \u001b[0mi___\u001b[0m\u001b[0;34m\u001b[0m\u001b[0;34m\u001b[0m\u001b[0m\n\u001b[0m\u001b[1;32m      2\u001b[0m \u001b[0;32mwhile\u001b[0m \u001b[0m____\u001b[0m\u001b[0;34m:\u001b[0m\u001b[0;34m\u001b[0m\u001b[0;34m\u001b[0m\u001b[0m\n\u001b[1;32m      3\u001b[0m     \u001b[0mprint\u001b[0m\u001b[0;34m(\u001b[0m\u001b[0mlst___\u001b[0m\u001b[0;34m)\u001b[0m\u001b[0;34m\u001b[0m\u001b[0;34m\u001b[0m\u001b[0m\n\u001b[1;32m      4\u001b[0m     \u001b[0m____\u001b[0m\u001b[0;34m\u001b[0m\u001b[0;34m\u001b[0m\u001b[0m\n",
      "\u001b[0;31mNameError\u001b[0m: name 'i___' is not defined"
     ]
    }
   ],
   "source": [
    "i___\n",
    "while ____:\n",
    "    print(lst___)\n",
    "    ____"
   ]
  },
  {
   "cell_type": "code",
   "execution_count": 16,
   "metadata": {
    "scrolled": true
   },
   "outputs": [
    {
     "name": "stdout",
     "output_type": "stream",
     "text": [
      "2\n",
      "1\n",
      "5\n",
      "8\n",
      "5\n",
      "6\n",
      "18\n",
      "13\n",
      "11\n",
      "15\n"
     ]
    }
   ],
   "source": [
    "i=0\n",
    "while i<=9:\n",
    "    print(lst[i])\n",
    "    i+=1"
   ]
  },
  {
   "cell_type": "code",
   "execution_count": null,
   "metadata": {},
   "outputs": [],
   "source": [
    "#print squared values of list elelmnet using while loop"
   ]
  },
  {
   "cell_type": "code",
   "execution_count": null,
   "metadata": {},
   "outputs": [],
   "source": [
    "l1=[]#1,2,3,....,1000000\n",
    "i=0\n",
    "while i<=100:\n",
    "    l1[i]=i+1\n",
    "    i=i+1\n"
   ]
  },
  {
   "cell_type": "code",
   "execution_count": 17,
   "metadata": {},
   "outputs": [
    {
     "name": "stdout",
     "output_type": "stream",
     "text": [
      "[1, 2, 3, 4, 5, 6, 7, 8, 9, 10, 11, 12, 13, 14, 15, 16, 17, 18, 19, 20, 21, 22, 23, 24, 25, 26, 27, 28, 29, 30, 31, 32, 33, 34, 35, 36, 37, 38, 39, 40, 41, 42, 43, 44, 45, 46, 47, 48, 49, 50, 51, 52, 53, 54, 55, 56, 57, 58, 59, 60, 61, 62, 63, 64, 65, 66, 67, 68, 69, 70, 71, 72, 73, 74, 75, 76, 77, 78, 79, 80, 81, 82, 83, 84, 85, 86, 87, 88, 89, 90, 91, 92, 93, 94, 95, 96, 97, 98, 99, 100]\n"
     ]
    }
   ],
   "source": [
    "l1=[]\n",
    "i=1\n",
    "while i<=100:\n",
    "    l1.append(i)\n",
    "    i=i+1\n",
    "    \n",
    "print(l1)"
   ]
  },
  {
   "cell_type": "code",
   "execution_count": null,
   "metadata": {},
   "outputs": [],
   "source": []
  }
 ],
 "metadata": {
  "kernelspec": {
   "display_name": "Python 3 (ipykernel)",
   "language": "python",
   "name": "python3"
  },
  "language_info": {
   "codemirror_mode": {
    "name": "ipython",
    "version": 3
   },
   "file_extension": ".py",
   "mimetype": "text/x-python",
   "name": "python",
   "nbconvert_exporter": "python",
   "pygments_lexer": "ipython3",
   "version": "3.8.10"
  }
 },
 "nbformat": 4,
 "nbformat_minor": 2
}
